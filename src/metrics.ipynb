{
 "cells": [
  {
   "cell_type": "code",
   "execution_count": 2,
   "metadata": {},
   "outputs": [],
   "source": [
    "import cv2\n",
    "import numpy as np\n",
    "from skimage.measure import label, regionprops"
   ]
  },
  {
   "cell_type": "code",
   "execution_count": 9,
   "metadata": {},
   "outputs": [],
   "source": [
    "def calcCircularity(inImageGray):\n",
    "      height, width = inImageGray.shape\n",
    "      binImage = np.zeros((height, width))\n",
    "      binImage[inImageGray > 0] = 1\n",
    "      mask = label(binImage)\n",
    "      #mask = binImage\n",
    "      mask_props = regionprops(mask)\n",
    "      soliditySum = 0\n",
    "      areaSum = 0\n",
    "      for mask_prop in mask_props: #due to neighbourhood adjacency, FG region might be split into regions....\n",
    "        areaSize = mask_prop['area']  \n",
    "        solidity = mask_prop['solidity']\n",
    "        areaSum += areaSize\n",
    "        soliditySum += solidity * areaSize\n",
    "        \n",
    "      soliditySum /= areaSum\n",
    "      return soliditySum"
   ]
  },
  {
   "cell_type": "code",
   "execution_count": 39,
   "metadata": {},
   "outputs": [],
   "source": [
    "from skimage.feature import graycomatrix, graycoprops\n",
    "import numpy as np\n",
    "\n",
    "def calcHomogeneity(inImageGray):\n",
    "    # Berechnen Sie die Graustufen-Ko-Okkurrenz-Matrix\n",
    "    glcm = graycomatrix(inImageGray, [1], [0, np.pi/4, np.pi/2, 3*np.pi/4], symmetric=True, normed=True)\n",
    "\n",
    "    glcm[:, 0, :, :] = 0\n",
    "    glcm[0, :, :, :] = 0\n",
    "\n",
    "    # Berechnen Sie die Homogenität aus der GLCM\n",
    "    homogeneity = graycoprops(glcm, 'homogeneity')\n",
    "\n",
    "    # Mitteln Sie die Homogenität über alle Richtungen\n",
    "    avg_homogeneity = np.mean(homogeneity)\n",
    "\n",
    "    return avg_homogeneity\n"
   ]
  },
  {
   "cell_type": "code",
   "execution_count": 49,
   "metadata": {},
   "outputs": [],
   "source": [
    "def chromaticity(inImageBGR, inImageGray):\n",
    "      r, g, b = cv2.split(inImageBGR)\n",
    "      minChannel = np.minimum(r, g)\n",
    "      minChannel = np.minimum(minChannel, b)\n",
    "\n",
    "      maxChannel = np.maximum(r, g)\n",
    "      maxChannel = np.maximum(maxChannel, b)\n",
    "\n",
    "      diffImg = maxChannel - minChannel\n",
    "\n",
    "\n",
    "      avgChromaticity = np.mean(diffImg[inImageGray > 0])\n",
    "\n",
    "      return avgChromaticity"
   ]
  },
  {
   "cell_type": "code",
   "execution_count": 52,
   "metadata": {},
   "outputs": [
    {
     "name": "stdout",
     "output_type": "stream",
     "text": [
      "['.git', '.gitignore', 'data', 'Evaluation.ipynb', 'Pizza_Classification.ipynb', 'questionnaire', 'questionnaire.ipynb', 'README.md', 'src', 'workflow_images']\n"
     ]
    },
    {
     "data": {
      "text/plain": [
       "0.0"
      ]
     },
     "execution_count": 52,
     "metadata": {},
     "output_type": "execute_result"
    }
   ],
   "source": [
    "import os\n",
    "print(os.listdir(\"..\"))\n",
    "#image = cv2.imread(r\"../data/grabCut/21.png\")\n",
    "image = cv2.imread(r\"C:\\Users\\Dani\\Downloads\\pikapika.png\")\n",
    "gray_img = cv2.cvtColor(image, cv2.COLOR_BGR2GRAY)\n",
    "\n",
    "cv2.imshow(\"image\", gray_img)\n",
    "\n",
    "cv2.waitKey()\n",
    "\n",
    "calcCircularity(gray_img)\n",
    "calcHomogeneity(gray_img)\n",
    "chromaticity(image, gray_img)"
   ]
  },
  {
   "cell_type": "code",
   "execution_count": null,
   "metadata": {},
   "outputs": [],
   "source": []
  }
 ],
 "metadata": {
  "kernelspec": {
   "display_name": "Python 3",
   "language": "python",
   "name": "python3"
  },
  "language_info": {
   "codemirror_mode": {
    "name": "ipython",
    "version": 3
   },
   "file_extension": ".py",
   "mimetype": "text/x-python",
   "name": "python",
   "nbconvert_exporter": "python",
   "pygments_lexer": "ipython3",
   "version": "3.12.0"
  }
 },
 "nbformat": 4,
 "nbformat_minor": 2
}
