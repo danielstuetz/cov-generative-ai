{
 "cells": [
  {
   "cell_type": "code",
   "execution_count": 43,
   "metadata": {},
   "outputs": [],
   "source": [
    "import cv2\n",
    "import os\n",
    "import numpy as np\n",
    "from skimage.measure import label, regionprops\n",
    "from skimage.metrics import structural_similarity\n",
    "from scipy.stats import entropy, ttest_ind, shapiro, bartlett\n",
    "from statsmodels.stats.multitest import multipletests"
   ]
  },
  {
   "cell_type": "code",
   "execution_count": 2,
   "metadata": {},
   "outputs": [],
   "source": [
    "def calcCircularity(inImageGray):\n",
    "      height, width = inImageGray.shape\n",
    "      binImage = np.zeros((height, width))\n",
    "      binImage[inImageGray > 0] = 1\n",
    "      mask = label(binImage)\n",
    "      #mask = binImage\n",
    "      mask_props = regionprops(mask)\n",
    "      soliditySum = 0\n",
    "      areaSum = 0\n",
    "      for mask_prop in mask_props: #due to neighbourhood adjacency, FG region might be split into regions....\n",
    "        areaSize = mask_prop['area']  \n",
    "        solidity = mask_prop['solidity']\n",
    "        areaSum += areaSize\n",
    "        soliditySum += solidity * areaSize\n",
    "        \n",
    "      soliditySum /= areaSum\n",
    "      return soliditySum"
   ]
  },
  {
   "cell_type": "code",
   "execution_count": 3,
   "metadata": {},
   "outputs": [],
   "source": [
    "from skimage.feature import graycomatrix, graycoprops\n",
    "import numpy as np\n",
    "\n",
    "def calcCoprops(inImageGray):\n",
    "    # Berechnen Sie die Graustufen-Ko-Okkurrenz-Matrix\n",
    "    glcm = graycomatrix(inImageGray, [1], [0, np.pi/4, np.pi/2, 3*np.pi/4], symmetric=True, normed=True)\n",
    "\n",
    "    glcm[:, 0, :, :] = 0\n",
    "    glcm[0, :, :, :] = 0\n",
    "    # Berechnen Sie die Homogenität aus der GLCM\n",
    "    homogeneity = graycoprops(glcm, 'homogeneity')\n",
    "    energy = graycoprops(glcm, 'energy')\n",
    "    contrast = graycoprops(glcm, 'contrast')\n",
    "    correlation = graycoprops(glcm, 'correlation')\n",
    "    #maybe correlation?\n",
    "    \n",
    "    return np.mean(homogeneity), np.mean(energy), np.mean(contrast), np.mean(correlation)\n"
   ]
  },
  {
   "cell_type": "code",
   "execution_count": 4,
   "metadata": {},
   "outputs": [],
   "source": [
    "def chromaticity(inImageBGR, inImageGray):\n",
    "      r, g, b = cv2.split(inImageBGR)\n",
    "      minChannel = np.minimum(r, g)\n",
    "      minChannel = np.minimum(minChannel, b)\n",
    "\n",
    "      maxChannel = np.maximum(r, g)\n",
    "      maxChannel = np.maximum(maxChannel, b)\n",
    "\n",
    "      diffImg = maxChannel - minChannel\n",
    "\n",
    "\n",
    "      avgChromaticity = np.mean(diffImg[inImageGray > 0])\n",
    "\n",
    "      return avgChromaticity"
   ]
  },
  {
   "cell_type": "code",
   "execution_count": 5,
   "metadata": {},
   "outputs": [],
   "source": [
    "def calcEntropy(inImageGray):\n",
    "    flat_image = inImageGray.flatten()\n",
    "\n",
    "    histogram, _ = np.histogram(flat_image, bins=256, range=(0, 256))\n",
    "\n",
    "    probabilities = histogram / flat_image.size\n",
    "    \n",
    "    entropy_value = entropy(probabilities, base=2)\n",
    "\n",
    "    return entropy_value"
   ]
  },
  {
   "cell_type": "code",
   "execution_count": 6,
   "metadata": {},
   "outputs": [],
   "source": [
    "real = [3, 8, 21, 24, 28]\n",
    "with open(\"../texture_features.csv\", \"w\") as outfile:\n",
    "    outfile.write(f\"circularity;homogenity;energy;contrast;correlation;chromaticity;entropy;group\\n\");\n",
    "    for imageName in os.listdir(r\"../data/grabCut\"):\n",
    "        image = cv2.imread(rf\"../data/grabCut/{imageName}\")\n",
    "        gray_img = cv2.cvtColor(image, cv2.COLOR_BGR2GRAY)\n",
    "        \n",
    "        circ = calcCircularity(gray_img)\n",
    "        homogenity, energy, contrast, correlation = calcCoprops(gray_img)\n",
    "        chroma = chromaticity(image, gray_img)\n",
    "        entropyVal = calcEntropy(gray_img)\n",
    "\n",
    "        group = \"real\" if int(imageName.split(\".\")[0]) in real else \"generated\"\n",
    "        \n",
    "        outfile.write(f\"{circ};{homogenity};{energy};{contrast};{correlation};{chroma};{entropyVal};{group}\\n\")\n"
   ]
  },
  {
   "cell_type": "code",
   "execution_count": 7,
   "metadata": {},
   "outputs": [],
   "source": [
    "# show in fourier dimension\n",
    "for imageName in os.listdir(r\"../data/grabCut\"):\n",
    "    image = cv2.imread(rf\"../data/grabCut/{imageName}\")\n",
    "    #image = cv2.imread(r\"../Untitled.png\")\n",
    "    gray_img = cv2.cvtColor(image, cv2.COLOR_BGR2GRAY)\n",
    "    fourier = cv2.dft(np.float32(gray_img), flags=cv2.DFT_COMPLEX_OUTPUT)\n",
    "     \n",
    "    # Shift the zero-frequency component to the center of the spectrum\n",
    "    fourier_shift = np.fft.fftshift(fourier)\n",
    "     \n",
    "    # calculate the magnitude of the Fourier Transform\n",
    "    magnitude = 20*np.log(cv2.magnitude(fourier_shift[:,:,0],fourier_shift[:,:,1]))\n",
    "     \n",
    "    # Scale the magnitude for display\n",
    "    magnitude = cv2.normalize(magnitude, None, 0, 255, cv2.NORM_MINMAX, cv2.CV_8UC1)\n",
    "    cv2.imwrite(rf\"../data/fourier/{imageName}\",magnitude)"
   ]
  },
  {
   "cell_type": "code",
   "execution_count": 18,
   "metadata": {},
   "outputs": [
    {
     "data": {
      "text/html": [
       "<div>\n",
       "<style scoped>\n",
       "    .dataframe tbody tr th:only-of-type {\n",
       "        vertical-align: middle;\n",
       "    }\n",
       "\n",
       "    .dataframe tbody tr th {\n",
       "        vertical-align: top;\n",
       "    }\n",
       "\n",
       "    .dataframe thead th {\n",
       "        text-align: right;\n",
       "    }\n",
       "</style>\n",
       "<table border=\"1\" class=\"dataframe\">\n",
       "  <thead>\n",
       "    <tr style=\"text-align: right;\">\n",
       "      <th></th>\n",
       "      <th>circularity</th>\n",
       "      <th>homogenity</th>\n",
       "      <th>energy</th>\n",
       "      <th>contrast</th>\n",
       "      <th>correlation</th>\n",
       "      <th>chromaticity</th>\n",
       "      <th>entropy</th>\n",
       "      <th>group</th>\n",
       "    </tr>\n",
       "  </thead>\n",
       "  <tbody>\n",
       "    <tr>\n",
       "      <th>0</th>\n",
       "      <td>0.996041</td>\n",
       "      <td>0.130267</td>\n",
       "      <td>0.012933</td>\n",
       "      <td>220.706396</td>\n",
       "      <td>0.945820</td>\n",
       "      <td>130.689901</td>\n",
       "      <td>4.670062</td>\n",
       "      <td>generated</td>\n",
       "    </tr>\n",
       "    <tr>\n",
       "      <th>1</th>\n",
       "      <td>0.991423</td>\n",
       "      <td>0.114190</td>\n",
       "      <td>0.010280</td>\n",
       "      <td>431.125885</td>\n",
       "      <td>0.941989</td>\n",
       "      <td>85.494683</td>\n",
       "      <td>6.454327</td>\n",
       "      <td>generated</td>\n",
       "    </tr>\n",
       "    <tr>\n",
       "      <th>2</th>\n",
       "      <td>0.887322</td>\n",
       "      <td>0.202094</td>\n",
       "      <td>0.021402</td>\n",
       "      <td>269.628390</td>\n",
       "      <td>0.973133</td>\n",
       "      <td>112.385317</td>\n",
       "      <td>5.114402</td>\n",
       "      <td>real</td>\n",
       "    </tr>\n",
       "    <tr>\n",
       "      <th>3</th>\n",
       "      <td>0.996162</td>\n",
       "      <td>0.121395</td>\n",
       "      <td>0.013350</td>\n",
       "      <td>203.206680</td>\n",
       "      <td>0.948110</td>\n",
       "      <td>125.244918</td>\n",
       "      <td>5.453984</td>\n",
       "      <td>generated</td>\n",
       "    </tr>\n",
       "    <tr>\n",
       "      <th>4</th>\n",
       "      <td>0.987383</td>\n",
       "      <td>0.137192</td>\n",
       "      <td>0.015249</td>\n",
       "      <td>382.698739</td>\n",
       "      <td>0.954901</td>\n",
       "      <td>120.526710</td>\n",
       "      <td>5.525590</td>\n",
       "      <td>real</td>\n",
       "    </tr>\n",
       "    <tr>\n",
       "      <th>5</th>\n",
       "      <td>0.990675</td>\n",
       "      <td>0.135882</td>\n",
       "      <td>0.013691</td>\n",
       "      <td>180.043501</td>\n",
       "      <td>0.958051</td>\n",
       "      <td>116.982717</td>\n",
       "      <td>6.442445</td>\n",
       "      <td>generated</td>\n",
       "    </tr>\n",
       "    <tr>\n",
       "      <th>6</th>\n",
       "      <td>0.993003</td>\n",
       "      <td>0.170566</td>\n",
       "      <td>0.014892</td>\n",
       "      <td>227.565828</td>\n",
       "      <td>0.954168</td>\n",
       "      <td>103.684600</td>\n",
       "      <td>4.650265</td>\n",
       "      <td>generated</td>\n",
       "    </tr>\n",
       "    <tr>\n",
       "      <th>7</th>\n",
       "      <td>0.987958</td>\n",
       "      <td>0.123866</td>\n",
       "      <td>0.012438</td>\n",
       "      <td>276.515033</td>\n",
       "      <td>0.925429</td>\n",
       "      <td>98.328894</td>\n",
       "      <td>6.073286</td>\n",
       "      <td>real</td>\n",
       "    </tr>\n",
       "    <tr>\n",
       "      <th>8</th>\n",
       "      <td>0.941993</td>\n",
       "      <td>0.086075</td>\n",
       "      <td>0.009514</td>\n",
       "      <td>502.903325</td>\n",
       "      <td>0.903646</td>\n",
       "      <td>93.112689</td>\n",
       "      <td>4.572491</td>\n",
       "      <td>real</td>\n",
       "    </tr>\n",
       "    <tr>\n",
       "      <th>9</th>\n",
       "      <td>0.950457</td>\n",
       "      <td>0.143458</td>\n",
       "      <td>0.012672</td>\n",
       "      <td>535.735296</td>\n",
       "      <td>0.903779</td>\n",
       "      <td>151.630760</td>\n",
       "      <td>6.348090</td>\n",
       "      <td>real</td>\n",
       "    </tr>\n",
       "  </tbody>\n",
       "</table>\n",
       "</div>"
      ],
      "text/plain": [
       "   circularity  homogenity    energy    contrast  correlation  chromaticity  \\\n",
       "0     0.996041    0.130267  0.012933  220.706396     0.945820    130.689901   \n",
       "1     0.991423    0.114190  0.010280  431.125885     0.941989     85.494683   \n",
       "2     0.887322    0.202094  0.021402  269.628390     0.973133    112.385317   \n",
       "3     0.996162    0.121395  0.013350  203.206680     0.948110    125.244918   \n",
       "4     0.987383    0.137192  0.015249  382.698739     0.954901    120.526710   \n",
       "5     0.990675    0.135882  0.013691  180.043501     0.958051    116.982717   \n",
       "6     0.993003    0.170566  0.014892  227.565828     0.954168    103.684600   \n",
       "7     0.987958    0.123866  0.012438  276.515033     0.925429     98.328894   \n",
       "8     0.941993    0.086075  0.009514  502.903325     0.903646     93.112689   \n",
       "9     0.950457    0.143458  0.012672  535.735296     0.903779    151.630760   \n",
       "\n",
       "    entropy      group  \n",
       "0  4.670062  generated  \n",
       "1  6.454327  generated  \n",
       "2  5.114402       real  \n",
       "3  5.453984  generated  \n",
       "4  5.525590       real  \n",
       "5  6.442445  generated  \n",
       "6  4.650265  generated  \n",
       "7  6.073286       real  \n",
       "8  4.572491       real  \n",
       "9  6.348090       real  "
      ]
     },
     "execution_count": 18,
     "metadata": {},
     "output_type": "execute_result"
    }
   ],
   "source": [
    "import pandas as pd\n",
    "data = pd.read_csv(\"../texture_features.csv\", sep=\";\")\n",
    "data"
   ]
  },
  {
   "cell_type": "code",
   "execution_count": 19,
   "metadata": {},
   "outputs": [],
   "source": [
    "#data.drop(index=[5,8,9],inplace=True)\n",
    "#data"
   ]
  },
  {
   "cell_type": "code",
   "execution_count": 20,
   "metadata": {},
   "outputs": [],
   "source": [
    "sample_gen = data[data[\"group\"]==\"generated\"]\n",
    "sample_real = data[data[\"group\"]==\"real\"]"
   ]
  },
  {
   "cell_type": "code",
   "execution_count": 47,
   "metadata": {},
   "outputs": [
    {
     "name": "stdout",
     "output_type": "stream",
     "text": [
      "circularity  \t \t 2.2927694108596217 \t 0.051043716492537895 \t 0.00011377362298225188\n",
      "homogenity  \t \t -0.19285680336068034 \t 0.8518771852392323 \t 0.23344337718915134\n",
      "energy \t \t \t -0.5717764106015131 \t 0.5831776207509132 \t 0.08770235802244539\n",
      "correlation  \t \t 1.2298633592407875 \t 0.2536867591284859 \t 0.010528531217032995\n",
      "chromaticity  \t \t -0.2112817843033691 \t 0.8379502961226188 \t 0.6517382634924007\n",
      "entropy  \t \t 0.014516627463965263 \t 0.9887733123349791 \t 0.6758755933605045\n"
     ]
    },
    {
     "data": {
      "text/html": [
       "<div>\n",
       "<style scoped>\n",
       "    .dataframe tbody tr th:only-of-type {\n",
       "        vertical-align: middle;\n",
       "    }\n",
       "\n",
       "    .dataframe tbody tr th {\n",
       "        vertical-align: top;\n",
       "    }\n",
       "\n",
       "    .dataframe thead th {\n",
       "        text-align: right;\n",
       "    }\n",
       "</style>\n",
       "<table border=\"1\" class=\"dataframe\">\n",
       "  <thead>\n",
       "    <tr style=\"text-align: right;\">\n",
       "      <th></th>\n",
       "      <th>Feature</th>\n",
       "      <th>t-p_value</th>\n",
       "      <th>bartlett-p_value</th>\n",
       "    </tr>\n",
       "  </thead>\n",
       "  <tbody>\n",
       "    <tr>\n",
       "      <th>0</th>\n",
       "      <td>circularity</td>\n",
       "      <td>0.051044</td>\n",
       "      <td>0.000114</td>\n",
       "    </tr>\n",
       "    <tr>\n",
       "      <th>1</th>\n",
       "      <td>homogenity</td>\n",
       "      <td>0.851877</td>\n",
       "      <td>0.233443</td>\n",
       "    </tr>\n",
       "    <tr>\n",
       "      <th>2</th>\n",
       "      <td>energy</td>\n",
       "      <td>0.583178</td>\n",
       "      <td>0.087702</td>\n",
       "    </tr>\n",
       "    <tr>\n",
       "      <th>3</th>\n",
       "      <td>correlation</td>\n",
       "      <td>0.253687</td>\n",
       "      <td>0.010529</td>\n",
       "    </tr>\n",
       "    <tr>\n",
       "      <th>4</th>\n",
       "      <td>chromaticity</td>\n",
       "      <td>0.837950</td>\n",
       "      <td>0.651738</td>\n",
       "    </tr>\n",
       "    <tr>\n",
       "      <th>5</th>\n",
       "      <td>entropy</td>\n",
       "      <td>0.988773</td>\n",
       "      <td>0.675876</td>\n",
       "    </tr>\n",
       "  </tbody>\n",
       "</table>\n",
       "</div>"
      ],
      "text/plain": [
       "        Feature  t-p_value  bartlett-p_value\n",
       "0   circularity   0.051044          0.000114\n",
       "1    homogenity   0.851877          0.233443\n",
       "2        energy   0.583178          0.087702\n",
       "3   correlation   0.253687          0.010529\n",
       "4  chromaticity   0.837950          0.651738\n",
       "5       entropy   0.988773          0.675876"
      ]
     },
     "execution_count": 47,
     "metadata": {},
     "output_type": "execute_result"
    }
   ],
   "source": [
    "df = pd.DataFrame(columns=[\"Feature\", \"t-p_value\", \"bartlett-p_value\"])\n",
    "for feature in data.columns.values[:-1]:\n",
    "    t_statistic, p_value = ttest_ind(sample_gen[feature], sample_real[feature])\n",
    "    bart_res = bartlett(sample_gen[feature], sample_real[feature])\n",
    "    res1 = shapiro(sample_gen[feature]).pvalue > 0.05\n",
    "    res2 = shapiro(sample_real[feature]).pvalue > 0.05\n",
    "    if res1 and res2:\n",
    "        print(feature, \"\\t\" if len(feature) < 7 else \"\", \"\\t\", \"\\t\", t_statistic, \"\\t\", p_value, \"\\t\", bart_res.pvalue)\n",
    "        df.loc[len(df.index)] = [feature, p_value, bart_res.pvalue]\n",
    "\n",
    "df"
   ]
  },
  {
   "cell_type": "code",
   "execution_count": 58,
   "metadata": {},
   "outputs": [
    {
     "data": {
      "text/plain": [
       "(array([ True, False, False,  True, False, False]),\n",
       " array([0.00068264, 0.35016507, 0.17540472, 0.03158559, 0.67587559,\n",
       "        0.67587559]),\n",
       " 0.008512444610847103,\n",
       " 0.008333333333333333)"
      ]
     },
     "execution_count": 58,
     "metadata": {},
     "output_type": "execute_result"
    }
   ],
   "source": [
    "corrected = multipletests(df[\"bartlett-p_value\"], method='fdr_bh')\n",
    "corrected"
   ]
  },
  {
   "cell_type": "code",
   "execution_count": 24,
   "metadata": {},
   "outputs": [],
   "source": [
    "# The specified order\n",
    "specified_order = [3, 8, 21, 24, 28]\n",
    "\n",
    "# Define a custom sorting key function\n",
    "def custom_sort_key(file_name):\n",
    "    try:\n",
    "        # Extract the numerical part from the file name\n",
    "        number_part = int(file_name.split('.')[0])\n",
    "        \n",
    "        # Check if the number is in the specified order\n",
    "        if number_part in specified_order:\n",
    "            # Return a tuple with a lower priority to place it at the front\n",
    "            return (0, specified_order.index(number_part))\n",
    "    except ValueError:\n",
    "        pass\n",
    "    \n",
    "    # Return a tuple with a higher priority for other cases\n",
    "    return (1, file_name)"
   ]
  },
  {
   "cell_type": "code",
   "execution_count": 27,
   "metadata": {},
   "outputs": [
    {
     "data": {
      "text/plain": [
       "['03.png',\n",
       " '08.png',\n",
       " '21.png',\n",
       " '24.png',\n",
       " '28.png',\n",
       " '00.png',\n",
       " '02.png',\n",
       " '07.png',\n",
       " '10.png',\n",
       " '19.png']"
      ]
     },
     "execution_count": 27,
     "metadata": {},
     "output_type": "execute_result"
    }
   ],
   "source": [
    "names = sorted(os.listdir(r\"../data/grabCut\"), key=custom_sort_key)\n",
    "names"
   ]
  },
  {
   "cell_type": "code",
   "execution_count": 32,
   "metadata": {},
   "outputs": [],
   "source": [
    "ssim_matrix = np.zeros((len(names), len(names)))\n",
    "for i, im1name in enumerate(names):\n",
    "    for j, im2name in enumerate(names):\n",
    "        image1 = cv2.imread(rf\"../data/grabCut/{im1name}\", cv2.IMREAD_GRAYSCALE)\n",
    "        image2 = cv2.imread(rf\"../data/grabCut/{im2name}\", cv2.IMREAD_GRAYSCALE)\n",
    "\n",
    "        # Get the shape (height and width) of both images\n",
    "        height1, width1 = image1.shape\n",
    "        height2, width2 = image2.shape\n",
    "        \n",
    "        # Resize the larger image to the size of the smaller one\n",
    "        if height1 * width1 > height2 * width2:\n",
    "            image1 = cv2.resize(image1, (width2, height2))\n",
    "            image2 = image2\n",
    "        else:\n",
    "            image1 = image1\n",
    "            image2 = cv2.resize(image2, (width1, height1))\n",
    "        \n",
    "        ssim_matrix[i][j], _ = structural_similarity(image1, image2, full=True)"
   ]
  },
  {
   "cell_type": "code",
   "execution_count": 59,
   "metadata": {},
   "outputs": [
    {
     "data": {
      "image/png": "[encoded data removed]",
      "text/plain": [
       "<Figure size 640x480 with 2 Axes>"
      ]
     },
     "metadata": {},
     "output_type": "display_data"
    },
    {
     "ename": "AttributeError",
     "evalue": "module 'matplotlib.pyplot' has no attribute 'save'",
     "output_type": "error",
     "traceback": [
      "\u001b[0;31m---------------------------------------------------------------------------\u001b[0m",
      "\u001b[0;31mAttributeError\u001b[0m                            Traceback (most recent call last)",
      "Cell \u001b[0;32mIn[59], line 7\u001b[0m\n\u001b[1;32m      5\u001b[0m plt\u001b[38;5;241m.\u001b[39mcolorbar()\n\u001b[1;32m      6\u001b[0m plt\u001b[38;5;241m.\u001b[39mshow()\n\u001b[0;32m----> 7\u001b[0m \u001b[43mplt\u001b[49m\u001b[38;5;241;43m.\u001b[39;49m\u001b[43msave\u001b[49m(\u001b[38;5;124m\"\u001b[39m\u001b[38;5;124mssim.png\u001b[39m\u001b[38;5;124m\"\u001b[39m)\n",
      "\u001b[0;31mAttributeError\u001b[0m: module 'matplotlib.pyplot' has no attribute 'save'"
     ]
    }
   ],
   "source": [
    "import matplotlib.pyplot as plt\n",
    "# Display the heatmap\n",
    "plt.imshow(ssim_matrix, cmap='viridis', interpolation='nearest', aspect='auto')\n",
    "plt.title('Heatmap of SSIM')\n",
    "plt.colorbar()\n",
    "plt.show()"
   ]
  }
 ],
 "metadata": {
  "kernelspec": {
   "display_name": "Python 3 (ipykernel)",
   "language": "python",
   "name": "python3"
  },
  "language_info": {
   "codemirror_mode": {
    "name": "ipython",
    "version": 3
   },
   "file_extension": ".py",
   "mimetype": "text/x-python",
   "name": "python",
   "nbconvert_exporter": "python",
   "pygments_lexer": "ipython3",
   "version": "3.9.18"
  }
 },
 "nbformat": 4,
 "nbformat_minor": 4
}
