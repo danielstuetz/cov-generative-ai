{
 "cells": [
  {
   "cell_type": "markdown",
   "metadata": {},
   "source": [
    "CMMD (Cross Modal Mean Discrepancy) Diese Metrik basiert auf reicheren CLIP-Einbettungen und der maximalen Mittelwertsdiskrepanz-Distanz mit dem Gaußschen RBF-Kernel. Im Gegensatz zur FID ist CMMD ein unverzerrter Schätzer, der keine Annahmen über die Wahrscheinlichkeitsverteilung der Einbettungen macht und stichprobeneffizient ist. Umfangreiche Experimente und Analysen haben gezeigt, dass die FID-basierte Bewertung von Text-zu-Bild-Modellen möglicherweise unzuverlässig ist, während CMMD eine robustere und zuverlässigere Bewertung der Bildqualität biete\n",
    "https://www.mind-verse.de/news/qualitaetsmessung-bildgenerierung-herausforderungen-neue-wege\n",
    "\n",
    "https://github.com/openai/CLIP\n",
    "\n",
    "\n",
    "CLIP (Contrastive Language-Image Pre-Training) is a neural network trained on a variety of (image, text) pairs. It can be instructed in natural language to predict the most relevant text snippet, given an image, without directly optimizing for the task, similarly to the zero-shot capabilities of GPT-2 and 3. We found CLIP matches the performance of the original ResNet50 on ImageNet “zero-shot” without using any of the original 1.28M labeled examples, overcoming several major challenges in computer vision."
   ]
  },
  {
   "cell_type": "code",
   "execution_count": 3,
   "metadata": {},
   "outputs": [],
   "source": [
    "# Import modules\n",
    "import numpy as np\n",
    "import torch\n",
    "import clip\n",
    "from PIL import Image\n",
    "from scipy.spatial.distance import cdist\n",
    "import glob\n",
    "\n",
    "# Load CLIP model and tokenizer\n",
    "device = \"cuda\" if torch.cuda.is_available() else \"cpu\"\n",
    "model, preprocess = clip.load(\"ViT-B/32\", device=device)\n"
   ]
  },
  {
   "cell_type": "code",
   "execution_count": 4,
   "metadata": {},
   "outputs": [],
   "source": [
    "# Define a function to compute CLIP embeddings for an image\n",
    "def get_clip_embeddings(image):\n",
    "    # Convert image to tensor\n",
    "    image = preprocess(image).unsqueeze(0).to(device)\n",
    "    # Apply model and normalize output\n",
    "    with torch.no_grad():\n",
    "        image_features = model.encode_image(image)\n",
    "        image_features /= image_features.norm(dim=-1, keepdim=True)\n",
    "    # Return embeddings as numpy array\n",
    "    return image_features.cpu().numpy()"
   ]
  },
  {
   "cell_type": "code",
   "execution_count": 5,
   "metadata": {},
   "outputs": [],
   "source": [
    "# Define a function to compute Modal Mean Discrepancy with Gaussian RBF kernel\n",
    "def mmd_rbf(source, target, sigma=1.0):\n",
    "    # Compute pairwise distances\n",
    "    xx = cdist(source, source)\n",
    "    yy = cdist(target, target)\n",
    "    xy = cdist(source, target)\n",
    "    # Compute kernel values\n",
    "    k_xx = np.exp(-xx / sigma)\n",
    "    k_yy = np.exp(-yy / sigma)\n",
    "    k_xy = np.exp(-xy / sigma)\n",
    "    # Compute MMD\n",
    "    mmd = k_xx.mean() + k_yy.mean() - 2 * k_xy.mean()\n",
    "    return mmd\n"
   ]
  },
  {
   "cell_type": "markdown",
   "metadata": {},
   "source": [
    "4 AI Pizza mit allen realen pizzen"
   ]
  },
  {
   "cell_type": "code",
   "execution_count": 32,
   "metadata": {},
   "outputs": [
    {
     "name": "stdout",
     "output_type": "stream",
     "text": [
      "CMMD: 0.2772\n"
     ]
    }
   ],
   "source": [
    "# Load real and generated images\n",
    "real_images = [Image.open(filename) for filename in glob.glob(\"input/pizza_not_pizza/pizza/*.jpg\")] \n",
    "gen_images = [Image.open(filename) for filename in glob.glob(\"generated/*.png\")] \n",
    "\n",
    "# Compute CLIP embeddings for both image sets\n",
    "real_embeddings = np.vstack([get_clip_embeddings(image) for image in real_images])\n",
    "gen_embeddings = np.vstack([get_clip_embeddings(image) for image in gen_images])\n",
    "\n",
    "# Compute CMMD between the two embedding distributions\n",
    "cmmd = mmd_rbf(real_embeddings, gen_embeddings)\n",
    "print(f\"CMMD: {cmmd:.4f}\")\n"
   ]
  },
  {
   "cell_type": "markdown",
   "metadata": {},
   "source": [
    "4 AI Pizza mit allen realen nicht pizzen"
   ]
  },
  {
   "cell_type": "code",
   "execution_count": 34,
   "metadata": {},
   "outputs": [
    {
     "name": "stdout",
     "output_type": "stream",
     "text": [
      "CMMD: 0.3740\n"
     ]
    }
   ],
   "source": [
    "# Load real and generated images\n",
    "real_images = [Image.open(filename) for filename in glob.glob(\"input/pizza_not_pizza/not_pizza/*.jpg\")] \n",
    "gen_images = [Image.open(filename) for filename in glob.glob(\"generated/*.png\")] \n",
    "\n",
    "# Compute CLIP embeddings for both image sets\n",
    "real_embeddings = np.vstack([get_clip_embeddings(image) for image in real_images])\n",
    "gen_embeddings = np.vstack([get_clip_embeddings(image) for image in gen_images])\n",
    "\n",
    "# Compute CMMD between the two embedding distributions\n",
    "cmmd = mmd_rbf(real_embeddings, gen_embeddings)\n",
    "print(f\"CMMD: {cmmd:.4f}\")"
   ]
  },
  {
   "cell_type": "markdown",
   "metadata": {},
   "source": [
    "4 AI Pizza mit 4 zufälligen realen pizzen"
   ]
  },
  {
   "cell_type": "code",
   "execution_count": 35,
   "metadata": {},
   "outputs": [
    {
     "name": "stdout",
     "output_type": "stream",
     "text": [
      "CMMD: 0.4123\n"
     ]
    }
   ],
   "source": [
    "# Load real and generated images\n",
    "real_images = [Image.open(filename) for filename in glob.glob(\"real_pizza/*.jpg\")] \n",
    "gen_images = [Image.open(filename) for filename in glob.glob(\"generated/*.png\")] \n",
    "\n",
    "# Compute CLIP embeddings for both image sets\n",
    "real_embeddings = np.vstack([get_clip_embeddings(image) for image in real_images])\n",
    "gen_embeddings = np.vstack([get_clip_embeddings(image) for image in gen_images])\n",
    "\n",
    "# Compute CMMD between the two embedding distributions\n",
    "cmmd = mmd_rbf(real_embeddings, gen_embeddings)\n",
    "print(f\"CMMD: {cmmd:.4f}\")"
   ]
  },
  {
   "cell_type": "markdown",
   "metadata": {},
   "source": [
    "4 AI Pizza mit 4 zufälligen realen nicht pizzen"
   ]
  },
  {
   "cell_type": "code",
   "execution_count": 36,
   "metadata": {},
   "outputs": [
    {
     "name": "stdout",
     "output_type": "stream",
     "text": [
      "CMMD: 0.5093\n"
     ]
    }
   ],
   "source": [
    "# Load real and generated images\n",
    "real_images = [Image.open(filename) for filename in glob.glob(\"real_nopizza/*.jpg\")] \n",
    "gen_images = [Image.open(filename) for filename in glob.glob(\"generated/*.png\")] \n",
    "\n",
    "# Compute CLIP embeddings for both image sets\n",
    "real_embeddings = np.vstack([get_clip_embeddings(image) for image in real_images])\n",
    "gen_embeddings = np.vstack([get_clip_embeddings(image) for image in gen_images])\n",
    "\n",
    "# Compute CMMD between the two embedding distributions\n",
    "cmmd = mmd_rbf(real_embeddings, gen_embeddings)\n",
    "print(f\"CMMD: {cmmd:.4f}\")"
   ]
  },
  {
   "cell_type": "markdown",
   "metadata": {},
   "source": [
    "4 AI NonPizza mit 4 zufälligen realen Pizzen"
   ]
  },
  {
   "cell_type": "code",
   "execution_count": 38,
   "metadata": {},
   "outputs": [
    {
     "name": "stdout",
     "output_type": "stream",
     "text": [
      "CMMD: 0.6730\n"
     ]
    }
   ],
   "source": [
    "# Load real and generated images\n",
    "real_images = [Image.open(filename) for filename in glob.glob(\"real_pizza/*.jpg\")] \n",
    "gen_images = [Image.open(filename) for filename in glob.glob(\"generated_nonPizza/*.jpg\")] \n",
    "\n",
    "# Compute CLIP embeddings for both image sets\n",
    "real_embeddings = np.vstack([get_clip_embeddings(image) for image in real_images])\n",
    "gen_embeddings = np.vstack([get_clip_embeddings(image) for image in gen_images])\n",
    "\n",
    "# Compute CMMD between the two embedding distributions\n",
    "cmmd = mmd_rbf(real_embeddings, gen_embeddings)\n",
    "print(f\"CMMD: {cmmd:.4f}\")"
   ]
  },
  {
   "cell_type": "markdown",
   "metadata": {},
   "source": [
    "4 AI Pizzen mit den selben 4 AI Pizzen"
   ]
  },
  {
   "cell_type": "code",
   "execution_count": 6,
   "metadata": {},
   "outputs": [
    {
     "name": "stdout",
     "output_type": "stream",
     "text": [
      "CMMD: 0.0000\n"
     ]
    }
   ],
   "source": [
    "# Load real and generated images\n",
    "real_images = [Image.open(filename) for filename in glob.glob(\"generated/*.png\")] \n",
    "gen_images = [Image.open(filename) for filename in glob.glob(\"generated/*.png\")] \n",
    "\n",
    "# Compute CLIP embeddings for both image sets\n",
    "real_embeddings = np.vstack([get_clip_embeddings(image) for image in real_images])\n",
    "gen_embeddings = np.vstack([get_clip_embeddings(image) for image in gen_images])\n",
    "\n",
    "# Compute CMMD between the two embedding distributions\n",
    "cmmd = mmd_rbf(real_embeddings, gen_embeddings)\n",
    "print(f\"CMMD: {cmmd:.4f}\")"
   ]
  },
  {
   "cell_type": "markdown",
   "metadata": {},
   "source": [
    "4 AI Pizzen mit 4 AI Erdbeertorten"
   ]
  },
  {
   "cell_type": "code",
   "execution_count": 7,
   "metadata": {},
   "outputs": [
    {
     "name": "stdout",
     "output_type": "stream",
     "text": [
      "CMMD: 0.6621\n"
     ]
    }
   ],
   "source": [
    "# Load real and generated images\n",
    "real_images = [Image.open(filename) for filename in glob.glob(\"generated/*.png\")] \n",
    "gen_images = [Image.open(filename) for filename in glob.glob(\"generated_Torte/*.jpg\")] \n",
    "\n",
    "# Compute CLIP embeddings for both image sets\n",
    "real_embeddings = np.vstack([get_clip_embeddings(image) for image in real_images])\n",
    "gen_embeddings = np.vstack([get_clip_embeddings(image) for image in gen_images])\n",
    "\n",
    "# Compute CMMD between the two embedding distributions\n",
    "cmmd = mmd_rbf(real_embeddings, gen_embeddings)\n",
    "print(f\"CMMD: {cmmd:.4f}\")"
   ]
  },
  {
   "cell_type": "markdown",
   "metadata": {},
   "source": [
    "Alle realen Pizzen mit allen realen NonPizzen"
   ]
  },
  {
   "cell_type": "code",
   "execution_count": 8,
   "metadata": {},
   "outputs": [
    {
     "name": "stdout",
     "output_type": "stream",
     "text": [
      "CMMD: 0.0986\n"
     ]
    }
   ],
   "source": [
    "# Load real and generated images\n",
    "real_images = [Image.open(filename) for filename in glob.glob(\"input/pizza_not_pizza/pizza/*.jpg\")] \n",
    "gen_images = [Image.open(filename) for filename in glob.glob(\"input/pizza_not_pizza/not_pizza/*.jpg\")] \n",
    "\n",
    "# Compute CLIP embeddings for both image sets\n",
    "real_embeddings = np.vstack([get_clip_embeddings(image) for image in real_images])\n",
    "gen_embeddings = np.vstack([get_clip_embeddings(image) for image in gen_images])\n",
    "\n",
    "# Compute CMMD between the two embedding distributions\n",
    "cmmd = mmd_rbf(real_embeddings, gen_embeddings)\n",
    "print(f\"CMMD: {cmmd:.4f}\")\n"
   ]
  }
 ],
 "metadata": {
  "kernelspec": {
   "display_name": "Python 3",
   "language": "python",
   "name": "python3"
  },
  "language_info": {
   "codemirror_mode": {
    "name": "ipython",
    "version": 3
   },
   "file_extension": ".py",
   "mimetype": "text/x-python",
   "name": "python",
   "nbconvert_exporter": "python",
   "pygments_lexer": "ipython3",
   "version": "3.9.12"
  }
 },
 "nbformat": 4,
 "nbformat_minor": 2
}
