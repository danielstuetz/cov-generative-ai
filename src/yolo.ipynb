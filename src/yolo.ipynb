{
 "cells": [
  {
   "cell_type": "code",
   "execution_count": 25,
   "metadata": {},
   "outputs": [],
   "source": [
    "from ultralytics import YOLO\n",
    "from PIL import Image\n",
    "import cv2\n",
    "from pathlib import Path\n",
    "from pprint import pprint\n",
    "import json\n",
    "import os"
   ]
  },
  {
   "cell_type": "code",
   "execution_count": 35,
   "metadata": {},
   "outputs": [
    {
     "name": "stdout",
     "output_type": "stream",
     "text": [
      "\n",
      "image 1/1 C:\\Users\\Dani\\Desktop\\stable diffusion\\ComfyUI\\ComfyUI_windows_portable\\ComfyUI\\output\\pizza_00015_.png: 640x640 2 persons, 3 pizzas, 439.8ms\n",
      "Speed: 2.0ms preprocess, 439.8ms inference, 1.0ms postprocess per image at shape (1, 3, 640, 640)\n"
     ]
    },
    {
     "data": {
      "text/plain": [
       "[{'name': 'pizza',\n",
       "  'class': 53,\n",
       "  'confidence': 0.9284368753433228,\n",
       "  'box': {'x1': 0.96630859375,\n",
       "   'y1': 48.993263244628906,\n",
       "   'x2': 1022.880859375,\n",
       "   'y2': 991.1444091796875}},\n",
       " {'name': 'person',\n",
       "  'class': 0,\n",
       "  'confidence': 0.5125331282615662,\n",
       "  'box': {'x1': 640.1447143554688,\n",
       "   'y1': 0.4561706483364105,\n",
       "   'x2': 1022.4091796875,\n",
       "   'y2': 78.87657928466797}},\n",
       " {'name': 'pizza',\n",
       "  'class': 53,\n",
       "  'confidence': 0.47669944167137146,\n",
       "  'box': {'x1': 2.3441405296325684,\n",
       "   'y1': 48.99658203125,\n",
       "   'x2': 1024.0,\n",
       "   'y2': 276.80096435546875}},\n",
       " {'name': 'pizza',\n",
       "  'class': 53,\n",
       "  'confidence': 0.3572119474411011,\n",
       "  'box': {'x1': 1.919335961341858,\n",
       "   'y1': 786.7362060546875,\n",
       "   'x2': 1023.4910278320312,\n",
       "   'y2': 992.3512573242188}},\n",
       " {'name': 'person',\n",
       "  'class': 0,\n",
       "  'confidence': 0.35350868105888367,\n",
       "  'box': {'x1': 1.586816430091858,\n",
       "   'y1': 0.664111316204071,\n",
       "   'x2': 797.663818359375,\n",
       "   'y2': 133.7744598388672}}]"
      ]
     },
     "execution_count": 35,
     "metadata": {},
     "output_type": "execute_result"
    }
   ],
   "source": [
    "model = YOLO(\"yolov8x.pt\")\n",
    "\n",
    "results = model.predict(source=r\"C:\\Users\\Dani\\Desktop\\stable diffusion\\ComfyUI\\ComfyUI_windows_portable\\ComfyUI\\output\\pizza_00015_.png\", device=\"cpu\")\n",
    "\n",
    "json_res = json.loads(results[0].tojson())\n",
    "\n",
    "json_res"
   ]
  },
  {
   "cell_type": "markdown",
   "metadata": {},
   "source": [
    "# YOLO - real pizza classification confidence"
   ]
  },
  {
   "cell_type": "code",
   "execution_count": 45,
   "metadata": {},
   "outputs": [
    {
     "name": "stdout",
     "output_type": "stream",
     "text": [
      "0.7704833976067944\n"
     ]
    }
   ],
   "source": [
    "confidences = []\n",
    "for file in os.listdir(r\"C:\\Users\\Dani\\Desktop\\cov-generative-ai\\data\\input\\pizza_not_pizza\\pizza\"):\n",
    "    results = model.predict(source=rf\"C:\\Users\\Dani\\Desktop\\cov-generative-ai\\data\\input\\pizza_not_pizza\\pizza\\{file}\", device=\"cpu\", verbose=False)\n",
    "\n",
    "    json_res = json.loads(results[0].tojson())\n",
    "    max_confidence = max([*[res[\"confidence\"] for res in json_res if res[\"name\"] == \"pizza\"], 0])\n",
    "    confidences.append(max_confidence)\n",
    "\n",
    "print(sum(confidences)/len(confidences))"
   ]
  },
  {
   "cell_type": "markdown",
   "metadata": {},
   "source": [
    "# YOLO - generated pizza classification confidence (lasagna)"
   ]
  },
  {
   "cell_type": "code",
   "execution_count": 46,
   "metadata": {},
   "outputs": [
    {
     "name": "stdout",
     "output_type": "stream",
     "text": [
      "0.08208515246709187\n"
     ]
    }
   ],
   "source": [
    "confidences = []\n",
    "for file in os.listdir(r\"C:\\Users\\Dani\\Desktop\\stable diffusion\\ComfyUI\\ComfyUI_windows_portable\\ComfyUI\\output\"):\n",
    "    if file.startswith(\"lasagna\"):\n",
    "        results = model.predict(source=rf\"C:\\Users\\Dani\\Desktop\\stable diffusion\\ComfyUI\\ComfyUI_windows_portable\\ComfyUI\\output\\{file}\", device=\"cpu\", verbose=False)\n",
    "        json_res = json.loads(results[0].tojson())\n",
    "        max_confidence = max([*[res[\"confidence\"] for res in json_res if res[\"name\"] == \"pizza\"], 0])\n",
    "        confidences.append(max_confidence)\n",
    "\n",
    "print(sum(confidences)/len(confidences))"
   ]
  },
  {
   "cell_type": "markdown",
   "metadata": {},
   "source": [
    "# YOLO - generated pizza classification confidence (pizza)"
   ]
  },
  {
   "cell_type": "code",
   "execution_count": 47,
   "metadata": {},
   "outputs": [
    {
     "name": "stdout",
     "output_type": "stream",
     "text": [
      "0.9245919339797076\n"
     ]
    }
   ],
   "source": [
    "confidences = []\n",
    "for file in os.listdir(r\"C:\\Users\\Dani\\Desktop\\stable diffusion\\ComfyUI\\ComfyUI_windows_portable\\ComfyUI\\output\"):\n",
    "    if file.startswith(\"pizza\"):\n",
    "        results = model.predict(source=rf\"C:\\Users\\Dani\\Desktop\\stable diffusion\\ComfyUI\\ComfyUI_windows_portable\\ComfyUI\\output\\{file}\", device=\"cpu\", verbose=False)\n",
    "        json_res = json.loads(results[0].tojson())\n",
    "        max_confidence = max([*[res[\"confidence\"] for res in json_res if res[\"name\"] == \"pizza\"], 0])\n",
    "        confidences.append(max_confidence)\n",
    "\n",
    "print(sum(confidences)/len(confidences))"
   ]
  }
 ],
 "metadata": {
  "kernelspec": {
   "display_name": "Python 3",
   "language": "python",
   "name": "python3"
  },
  "language_info": {
   "codemirror_mode": {
    "name": "ipython",
    "version": 3
   },
   "file_extension": ".py",
   "mimetype": "text/x-python",
   "name": "python",
   "nbconvert_exporter": "python",
   "pygments_lexer": "ipython3",
   "version": "3.12.0"
  }
 },
 "nbformat": 4,
 "nbformat_minor": 2
}
