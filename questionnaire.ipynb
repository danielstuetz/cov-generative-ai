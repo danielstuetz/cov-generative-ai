{
 "cells": [
  {
   "cell_type": "code",
   "execution_count": null,
   "id": "95a1c59e-aa75-424b-95f8-49934532a917",
   "metadata": {},
   "outputs": [],
   "source": [
    "import shutil\n",
    "import os\n",
    "import numpy as np\n",
    "import random as rng"
   ]
  },
  {
   "cell_type": "code",
   "execution_count": null,
   "id": "51c20751-10e9-4333-8bfa-c39bb955e25a",
   "metadata": {},
   "outputs": [],
   "source": [
    "images = os.listdir(r\"./Pizza Topping Images/Basil\")\n",
    "test_images = np.random.choice(images, size=6)\n",
    "for image in test_images:\n",
    "    shutil.copyfile(f\"./Pizza Topping Images/Basil/{image}\", f\"sampled/{image}\")\n"
   ]
  },
  {
   "cell_type": "code",
   "execution_count": null,
   "id": "0e79a80b-9998-4266-871f-d8c2ccb0a0fb",
   "metadata": {},
   "outputs": [],
   "source": []
  },
  {
   "cell_type": "code",
   "execution_count": null,
   "id": "d3a92c31-a839-4e0a-a587-4b427c74592d",
   "metadata": {},
   "outputs": [],
   "source": [
    "gen_folder = \"./sampled/picked\"\n",
    "real_folder = \"./sampled/real\"\n",
    "\n",
    "images = os.listdir(gen_folder) + os.listdir(real_folder)\n",
    "len(images)"
   ]
  },
  {
   "cell_type": "code",
   "execution_count": null,
   "id": "3c8f46bb-17d6-4756-b352-e92de443a44d",
   "metadata": {},
   "outputs": [],
   "source": [
    "rng.shuffle(images)\n",
    "images"
   ]
  },
  {
   "cell_type": "code",
   "execution_count": null,
   "id": "38352234-8a1c-49f4-a5fb-52fe8260b5d1",
   "metadata": {},
   "outputs": [],
   "source": [
    "real_idx = [str(images.index(name)) for name in images if name.startswith(\"0\")]\n",
    "gen_idx = [str(images.index(name)) for name in images if not name.startswith(\"0\")]\n",
    "\n",
    "with open(\"indices.txt\", \"w\") as outfile:\n",
    "    outfile.write(\",\".join(real_idx)+\"\\n\")\n",
    "    outfile.write(\",\".join(gen_idx)+\"\\n\")"
   ]
  }
 ],
 "metadata": {
  "kernelspec": {
   "display_name": "",
   "name": ""
  },
  "language_info": {
   "name": ""
  }
 },
 "nbformat": 4,
 "nbformat_minor": 5
}
